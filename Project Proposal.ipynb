{
 "cells": [
  {
   "cell_type": "code",
   "execution_count": 1,
   "id": "92be6429-a813-41d3-9138-ba4a40df8ab2",
   "metadata": {},
   "outputs": [
    {
     "name": "stderr",
     "output_type": "stream",
     "text": [
      "── \u001b[1mAttaching packages\u001b[22m ─────────────────────────────────────── tidyverse 1.3.2 ──\n",
      "\u001b[32m✔\u001b[39m \u001b[34mggplot2\u001b[39m 3.4.2     \u001b[32m✔\u001b[39m \u001b[34mpurrr  \u001b[39m 1.0.1\n",
      "\u001b[32m✔\u001b[39m \u001b[34mtibble \u001b[39m 3.2.1     \u001b[32m✔\u001b[39m \u001b[34mdplyr  \u001b[39m 1.1.1\n",
      "\u001b[32m✔\u001b[39m \u001b[34mtidyr  \u001b[39m 1.3.0     \u001b[32m✔\u001b[39m \u001b[34mstringr\u001b[39m 1.5.0\n",
      "\u001b[32m✔\u001b[39m \u001b[34mreadr  \u001b[39m 2.1.3     \u001b[32m✔\u001b[39m \u001b[34mforcats\u001b[39m 0.5.2\n",
      "── \u001b[1mConflicts\u001b[22m ────────────────────────────────────────── tidyverse_conflicts() ──\n",
      "\u001b[31m✖\u001b[39m \u001b[34mdplyr\u001b[39m::\u001b[32mfilter()\u001b[39m masks \u001b[34mstats\u001b[39m::filter()\n",
      "\u001b[31m✖\u001b[39m \u001b[34mdplyr\u001b[39m::\u001b[32mlag()\u001b[39m    masks \u001b[34mstats\u001b[39m::lag()\n",
      "── \u001b[1mAttaching packages\u001b[22m ────────────────────────────────────── tidymodels 1.0.0 ──\n",
      "\n",
      "\u001b[32m✔\u001b[39m \u001b[34mbroom       \u001b[39m 1.0.2     \u001b[32m✔\u001b[39m \u001b[34mrsample     \u001b[39m 1.1.1\n",
      "\u001b[32m✔\u001b[39m \u001b[34mdials       \u001b[39m 1.1.0     \u001b[32m✔\u001b[39m \u001b[34mtune        \u001b[39m 1.0.1\n",
      "\u001b[32m✔\u001b[39m \u001b[34minfer       \u001b[39m 1.0.4     \u001b[32m✔\u001b[39m \u001b[34mworkflows   \u001b[39m 1.1.2\n",
      "\u001b[32m✔\u001b[39m \u001b[34mmodeldata   \u001b[39m 1.0.1     \u001b[32m✔\u001b[39m \u001b[34mworkflowsets\u001b[39m 1.0.0\n",
      "\u001b[32m✔\u001b[39m \u001b[34mparsnip     \u001b[39m 1.0.3     \u001b[32m✔\u001b[39m \u001b[34myardstick   \u001b[39m 1.1.0\n",
      "\u001b[32m✔\u001b[39m \u001b[34mrecipes     \u001b[39m 1.0.4     \n",
      "\n",
      "── \u001b[1mConflicts\u001b[22m ───────────────────────────────────────── tidymodels_conflicts() ──\n",
      "\u001b[31m✖\u001b[39m \u001b[34mscales\u001b[39m::\u001b[32mdiscard()\u001b[39m masks \u001b[34mpurrr\u001b[39m::discard()\n",
      "\u001b[31m✖\u001b[39m \u001b[34mdplyr\u001b[39m::\u001b[32mfilter()\u001b[39m   masks \u001b[34mstats\u001b[39m::filter()\n",
      "\u001b[31m✖\u001b[39m \u001b[34mrecipes\u001b[39m::\u001b[32mfixed()\u001b[39m  masks \u001b[34mstringr\u001b[39m::fixed()\n",
      "\u001b[31m✖\u001b[39m \u001b[34mdplyr\u001b[39m::\u001b[32mlag()\u001b[39m      masks \u001b[34mstats\u001b[39m::lag()\n",
      "\u001b[31m✖\u001b[39m \u001b[34myardstick\u001b[39m::\u001b[32mspec()\u001b[39m masks \u001b[34mreadr\u001b[39m::spec()\n",
      "\u001b[31m✖\u001b[39m \u001b[34mrecipes\u001b[39m::\u001b[32mstep()\u001b[39m   masks \u001b[34mstats\u001b[39m::step()\n",
      "\u001b[34m•\u001b[39m Search for functions across packages at \u001b[32mhttps://www.tidymodels.org/find/\u001b[39m\n",
      "\n"
     ]
    }
   ],
   "source": [
    "library(tidyverse)\n",
    "library(repr)\n",
    "library(tidymodels)\n",
    "options(repr.matrix.max.rows = 6)"
   ]
  },
  {
   "cell_type": "code",
   "execution_count": 3,
   "id": "39f0fc67-b945-4caf-9c39-504e28bca556",
   "metadata": {
    "tags": []
   },
   "outputs": [
    {
     "name": "stderr",
     "output_type": "stream",
     "text": [
      "\u001b[1mRows: \u001b[22m\u001b[34m240\u001b[39m \u001b[1mColumns: \u001b[22m\u001b[34m7\u001b[39m\n",
      "\u001b[36m──\u001b[39m \u001b[1mColumn specification\u001b[22m \u001b[36m────────────────────────────────────────────────────────\u001b[39m\n",
      "\u001b[1mDelimiter:\u001b[22m \",\"\n",
      "\u001b[31mchr\u001b[39m (2): color, spectral\n",
      "\u001b[32mdbl\u001b[39m (5): temperature, luminosity, radius, magnitude, type\n",
      "\n",
      "\u001b[36mℹ\u001b[39m Use `spec()` to retrieve the full column specification for this data.\n",
      "\u001b[36mℹ\u001b[39m Specify the column types or set `show_col_types = FALSE` to quiet this message.\n"
     ]
    },
    {
     "data": {
      "text/html": [
       "<table class=\"dataframe\">\n",
       "<caption>A spec_tbl_df: 240 × 7</caption>\n",
       "<thead>\n",
       "\t<tr><th scope=col>temperature</th><th scope=col>luminosity</th><th scope=col>radius</th><th scope=col>magnitude</th><th scope=col>type</th><th scope=col>color</th><th scope=col>spectral</th></tr>\n",
       "\t<tr><th scope=col>&lt;dbl&gt;</th><th scope=col>&lt;dbl&gt;</th><th scope=col>&lt;dbl&gt;</th><th scope=col>&lt;dbl&gt;</th><th scope=col>&lt;dbl&gt;</th><th scope=col>&lt;chr&gt;</th><th scope=col>&lt;chr&gt;</th></tr>\n",
       "</thead>\n",
       "<tbody>\n",
       "\t<tr><td>3068</td><td>0.0024</td><td>0.1700</td><td>16.12</td><td>0</td><td>Red</td><td>M</td></tr>\n",
       "\t<tr><td>3042</td><td>0.0005</td><td>0.1542</td><td>16.60</td><td>0</td><td>Red</td><td>M</td></tr>\n",
       "\t<tr><td>2600</td><td>0.0003</td><td>0.1020</td><td>18.70</td><td>0</td><td>Red</td><td>M</td></tr>\n",
       "\t<tr><td>⋮</td><td>⋮</td><td>⋮</td><td>⋮</td><td>⋮</td><td>⋮</td><td>⋮</td></tr>\n",
       "\t<tr><td> 8829</td><td>537493</td><td>1423</td><td>-10.73</td><td>5</td><td>White</td><td>A</td></tr>\n",
       "\t<tr><td> 9235</td><td>404940</td><td>1112</td><td>-11.23</td><td>5</td><td>White</td><td>A</td></tr>\n",
       "\t<tr><td>37882</td><td>294903</td><td>1783</td><td> -7.80</td><td>5</td><td>Blue </td><td>O</td></tr>\n",
       "</tbody>\n",
       "</table>\n"
      ],
      "text/latex": [
       "A spec\\_tbl\\_df: 240 × 7\n",
       "\\begin{tabular}{lllllll}\n",
       " temperature & luminosity & radius & magnitude & type & color & spectral\\\\\n",
       " <dbl> & <dbl> & <dbl> & <dbl> & <dbl> & <chr> & <chr>\\\\\n",
       "\\hline\n",
       "\t 3068 & 0.0024 & 0.1700 & 16.12 & 0 & Red & M\\\\\n",
       "\t 3042 & 0.0005 & 0.1542 & 16.60 & 0 & Red & M\\\\\n",
       "\t 2600 & 0.0003 & 0.1020 & 18.70 & 0 & Red & M\\\\\n",
       "\t ⋮ & ⋮ & ⋮ & ⋮ & ⋮ & ⋮ & ⋮\\\\\n",
       "\t  8829 & 537493 & 1423 & -10.73 & 5 & White & A\\\\\n",
       "\t  9235 & 404940 & 1112 & -11.23 & 5 & White & A\\\\\n",
       "\t 37882 & 294903 & 1783 &  -7.80 & 5 & Blue  & O\\\\\n",
       "\\end{tabular}\n"
      ],
      "text/markdown": [
       "\n",
       "A spec_tbl_df: 240 × 7\n",
       "\n",
       "| temperature &lt;dbl&gt; | luminosity &lt;dbl&gt; | radius &lt;dbl&gt; | magnitude &lt;dbl&gt; | type &lt;dbl&gt; | color &lt;chr&gt; | spectral &lt;chr&gt; |\n",
       "|---|---|---|---|---|---|---|\n",
       "| 3068 | 0.0024 | 0.1700 | 16.12 | 0 | Red | M |\n",
       "| 3042 | 0.0005 | 0.1542 | 16.60 | 0 | Red | M |\n",
       "| 2600 | 0.0003 | 0.1020 | 18.70 | 0 | Red | M |\n",
       "| ⋮ | ⋮ | ⋮ | ⋮ | ⋮ | ⋮ | ⋮ |\n",
       "|  8829 | 537493 | 1423 | -10.73 | 5 | White | A |\n",
       "|  9235 | 404940 | 1112 | -11.23 | 5 | White | A |\n",
       "| 37882 | 294903 | 1783 |  -7.80 | 5 | Blue  | O |\n",
       "\n"
      ],
      "text/plain": [
       "    temperature luminosity radius magnitude type color spectral\n",
       "1   3068        0.0024     0.1700 16.12     0    Red   M       \n",
       "2   3042        0.0005     0.1542 16.60     0    Red   M       \n",
       "3   2600        0.0003     0.1020 18.70     0    Red   M       \n",
       "⋮   ⋮           ⋮          ⋮      ⋮         ⋮    ⋮     ⋮       \n",
       "238  8829       537493     1423   -10.73    5    White A       \n",
       "239  9235       404940     1112   -11.23    5    White A       \n",
       "240 37882       294903     1783    -7.80    5    Blue  O       "
      ]
     },
     "metadata": {},
     "output_type": "display_data"
    }
   ],
   "source": [
    "colname = c(\"temperature\",\"luminosity\",\"radius\",\"magnitude\",\"type\",\"color\",\"spectral\")\n",
    "stars = read_csv(\"star_classification_spreadsheet.csv\", col_names = colname, skip = 1)\n",
    "stars"
   ]
  },
  {
   "cell_type": "code",
   "execution_count": null,
   "id": "b5307523-8b36-40ed-85d3-613a5b116fa3",
   "metadata": {},
   "outputs": [],
   "source": []
  }
 ],
 "metadata": {
  "kernelspec": {
   "display_name": "R",
   "language": "R",
   "name": "ir"
  },
  "language_info": {
   "codemirror_mode": "r",
   "file_extension": ".r",
   "mimetype": "text/x-r-source",
   "name": "R",
   "pygments_lexer": "r",
   "version": "4.2.2"
  },
  "widgets": {
   "application/vnd.jupyter.widget-state+json": {
    "state": {},
    "version_major": 2,
    "version_minor": 0
   }
  }
 },
 "nbformat": 4,
 "nbformat_minor": 5
}
